{
 "cells": [
  {
   "cell_type": "markdown",
   "id": "db47dcbb-593d-4f6c-9363-c01bf8a1d384",
   "metadata": {},
   "source": [
    "# question 1\n",
    "What is Stastics?\n",
    "# Answer\n",
    "Statistics is the study of the collection, analysis, interpretation, presentation, and organization of data. In other words, it is a mathematical discipline to collect, summarize data."
   ]
  },
  {
   "cell_type": "markdown",
   "id": "7d145b68-c3e4-4ba2-8d57-510381f63730",
   "metadata": {},
   "source": [
    "# Question 2\n",
    "Q2. Define the different types of statistics and give an example of when each type might be used.\n",
    "# Answer "
   ]
  },
  {
   "cell_type": "markdown",
   "id": "b6638157-45b3-46cc-9c36-d73c09917b1d",
   "metadata": {},
   "source": [
    "There are two main types of statistics: descriptive and inferential statistics\n",
    "Descriptive statistics summarize and describe data, while inferential statistics use data to make inferences and draw conclusions about a population. For example, if we want to know the average height of students in a class, we could use descriptive statistics to calculate the mean height from a sample of students. If we want to know the average height of students in one class is different from the average height of students in another class,we could use inferential statistics to test for a significant difference between the two groups."
   ]
  },
  {
   "cell_type": "markdown",
   "id": "bd3ff72c-5177-45be-afc9-fdf415ffd27c",
   "metadata": {
    "tags": []
   },
   "source": [
    "# question 3\n",
    "Q3. What are the different types of data and how do they differ from each other? Provide an example of\n",
    "each type of data.\n",
    "# Answer"
   ]
  },
  {
   "cell_type": "markdown",
   "id": "2e9eea6a-cf3f-473f-a848-d780ad1f238d",
   "metadata": {},
   "source": [
    "There are two main types of data: qualitative and quantitative data\n",
    "Qualitative data refers to information about qualities, or information that cannot be measured.\n",
    "It’s usually descriptive and textual.\n",
    "Quantitative data, on the other hand, is numerical and can be broken down into two types: discrete and continuous. Discrete data is a whole number that can’t be divided or broken into individual parts, fractions or decimals. Examples of discrete data include the number of pets someone has – one can have two dogs but not two-and-a-half dogs. Continuous data can take any value and can be broken down into smaller pieces. Examples include temperature and the weight of a human"
   ]
  },
  {
   "cell_type": "markdown",
   "id": "c4db1ecb-5345-42b8-ab4c-efc9776597e6",
   "metadata": {},
   "source": [
    "# question 4 \n",
    "Q4. Categorise the following datasets with respect to quantitative and qualitative data types:\n",
    "\n",
    "(i) Grading in exam: A+, A, B+, B, C+, C, D, E\n",
    "\n",
    "(ii) Colour of mangoes: yellow, green, orange, red\n",
    "\n",
    "(iii) Height data of a class: [178.9, 179, 179.5, 176, 177.2, 178.3, 175.8,...]\n",
    "\n",
    "(iv) Number of mangoes exported by a farm: [500, 600, 478, 672, ...]"
   ]
  },
  {
   "cell_type": "markdown",
   "id": "ad5a8024-e9a0-4333-86d7-9eedd88d773b",
   "metadata": {},
   "source": [
    "# Answer \n",
    "(i) Grading in exam: A+, A, B+, B, C+, C, D, E\n",
    "\n",
    "Qualitative data: The grading system A+, A, B+, B, C+, C, D, E represents qualitative data as it consists of categories or labels rather than numerical values.\n",
    "Ordinal data: The grading system is also ordinal data, as it has a specific order from highest to lowest grade, i.e., A+ being the highest grade and E being the lowest.\n",
    "\n",
    "(ii) Colour of mangoes: yellow, green, orange, red\n",
    "\n",
    "Qualitative data: The color of mangoes is a categorical variable and therefore represents qualitative data.\n",
    "\n",
    "(iii) Height data of a class: [178.9, 179, 179.5, 176, 177.2, 178.3, 175.8,...]\n",
    "\n",
    "Quantitative data: The height data of a class is a numerical variable, and it represents quantitative data.\n",
    "Continuous data: The height data is also continuous data, as it can take on any value within a range.\n",
    "\n",
    "(iv) Number of mangoes exported by a farm: [500, 600, 478, 672, ...]\n",
    "\n",
    "Quantitative data: The number of mangoes exported by a farm is a numerical variable, and it represents quantitative data.\n",
    "Discrete data: The number of mangoes is discrete data, as it can only take on integer values."
   ]
  },
  {
   "cell_type": "markdown",
   "id": "34f4dfe1-5e9c-44a9-bed7-8a49e272bf7b",
   "metadata": {},
   "source": [
    "# Question 5\n",
    "Q5. Explain the concept of levels of measurement and give an example of a variable for each level.\n",
    "# Answer"
   ]
  },
  {
   "cell_type": "markdown",
   "id": "cfb4231a-0a29-46c9-bae7-017c60ccc6dd",
   "metadata": {},
   "source": [
    "The concept of levels of measurement, also called scales of measurement, describes the nature of information within the values assigned to variables. There are four levels of measurement: nominal, ordinal, interval, and ratio\n",
    "\n",
    "Nominal level measurement is used to categorize data without any order or structure. Examples of nominal variables include city of birth, gender, ethnicity, and car brand\n",
    "Ordinal level measurement involves data that can be categorized and ranked. Examples of ordinal variables include top 5 Olympic medalists and language ability\n",
    "Interval level measurement involves data that can be categorized, ranked, and evenly spaced. An example of an interval variable is temperature measured in degrees Celsius or Fahrenheit.\n",
    "Ratio level measurement is the highest level of measurement and involves data that can be categorized, ranked, evenly spaced, and has a true zero point. Examples of ratio variables include height, weight, and age."
   ]
  },
  {
   "cell_type": "markdown",
   "id": "6ebff5a9-aeb6-438f-ac6b-1c33a066f03e",
   "metadata": {},
   "source": [
    "# Question 6\n",
    "Q6. Why is it important to understand the level of measurement when analyzing data? Provide an\n",
    "example to illustrate your answer.\n",
    "# Answer "
   ]
  },
  {
   "cell_type": "markdown",
   "id": "c67fa1c9-b909-4acb-97e8-221107b5c809",
   "metadata": {},
   "source": [
    "Understanding the level of measurement is crucial when analyzing data because it helps in selecting the appropriate statistical techniques and summary measures that can be used to analyze the data. Different levels of measurement require different methods of analysis and summary measures, and using an inappropriate method can lead to erroneous conclusions and incorrect results.\n",
    "\n",
    "For example, suppose a researcher is conducting a study on the effectiveness of different teaching methods on student performance in a course. The researcher collects data on the teaching method used (lecture, discussion, hands-on activities) and the grades obtained by students on a test.\n",
    "\n",
    "If the researcher analyzes the data as nominal, they could only use frequency tables or charts to display the number of students in each teaching method group. Nominal data has no numerical meaning, and therefore, summary measures like means or standard deviations cannot be calculated.\n",
    "\n",
    "If the researcher analyzes the data as ordinal, they could use non-parametric tests such as the Mann-Whitney U test to compare the performance of students in different teaching method groups. However, ordinal data does not have equal intervals between values, and therefore, summary measures like the mean cannot be used.\n",
    "If the researcher analyzes the data as interval or ratio, they could use parametric tests such as t-tests or ANOVA to compare the performance of students in different teaching method groups. Summary measures like the mean and standard deviation could also be used to describe the central tendency and variability of the performance data.\n",
    "\n",
    "Thus, in this example, understanding the level of measurement is important because it guides the choice of statistical methods and summary measures that are appropriate for the data. Using an inappropriate method could lead to inaccurate conclusions and invalid results, which could affect the credibility of the study."
   ]
  },
  {
   "cell_type": "markdown",
   "id": "e14481c4-cbc4-454a-9b92-5f2a60ac6335",
   "metadata": {},
   "source": [
    "# question 7\n",
    "Q7. How nominal data type is different from ordinal data type.\n",
    "# Answer "
   ]
  },
  {
   "cell_type": "markdown",
   "id": "2ffebcb9-5679-4a55-924b-fa9023ebe054",
   "metadata": {},
   "source": [
    "Nominal and ordinal data are two types of categorical data. Nominal data are categories that have no natural order or ranking, while ordinal data are categories that have a natural order or ranking. Nominal data are measured on a nominal scale and summary measures are limited to frequency counts and percentages, while ordinal data are measured on an ordinal scale and summary measures include frequencies, percentages, median, and mode. The choice of which data type to use depends on the nature of the data and the research question."
   ]
  },
  {
   "cell_type": "markdown",
   "id": "fab20196-974d-4e0c-8463-0ce6d988c15b",
   "metadata": {},
   "source": [
    "# Question 8\n",
    "Q8. Which type of plot can be used to display data in terms of range?\n",
    "# Answer"
   ]
  },
  {
   "cell_type": "markdown",
   "id": "d3d6e888-4fa3-44f3-bf0c-dd3f6e2d2dcc",
   "metadata": {},
   "source": [
    "A box plot or a box-and-whisker plot can be used to display data in terms of range. A box plot is a graphical representation of the distribution of a dataset that shows the median, quartiles, and extreme values or outliers. The box in the plot represents the interquartile range (IQR) of the dataset, which is the range between the first and third quartiles (25th and 75th percentiles), while the whiskers extend from the box to the smallest and largest observations within 1.5 times the IQR of the lower and upper quartiles, respectively. The outliers are plotted as individual points beyond the whiskers"
   ]
  },
  {
   "cell_type": "markdown",
   "id": "01f75799-8e04-4b7e-9580-1e30430754ea",
   "metadata": {},
   "source": [
    "# Question 9 \n",
    "Q9. Describe the difference between descriptive and inferential statistics. Give an example of each\n",
    "type of statistics and explain how they are used.\n",
    "# Answer "
   ]
  },
  {
   "cell_type": "markdown",
   "id": "2d069254-0dea-45c5-a116-669b040f3995",
   "metadata": {},
   "source": [
    "Descriptive statistics involves the collection, organization, analysis, interpretation, and presentation of data in a summary or descriptive form. It is used to describe the basic features of the data, such as the measures of central tendency (mean, median, mode), measures of variability (range, variance, standard deviation), and measures of shape (skewness, kurtosis). Descriptive statistics are used to gain insights into the data, to identify patterns or trends, to compare groups or variables, and to summarize the data for communication purposes.\n",
    "For example, suppose a researcher wants to describe the age distribution of a population of students. The researcher collects data on the ages of 100 students and calculates the mean age, median age, and standard deviation of the data. These summary statistics provide a description of the central tendency and variability of the data, which can be used to communicate the age distribution of the population in a clear and concise manner.\n",
    "\n",
    "Inferential statistics involves the use of statistical methods and models to make inferences or predictions about a larger population based on a sample of data. It is used to test hypotheses, to estimate parameters, and to make decisions based on the data. Inferential statistics involves making generalizations about the population based on the characteristics of the sample.\n",
    "For example, suppose a researcher wants to investigate whether there is a significant difference in the mean height between two groups of students, such as males and females. The researcher collects a sample of data on the heights of 50 male students and 50 female students, and uses inferential statistics, such as a t-test or ANOVA, to test whether the difference in mean height between the groups is statistically significant. Inferential statistics allow the researcher to make conclusions about the population based on the characteristics of the sample."
   ]
  },
  {
   "cell_type": "markdown",
   "id": "a31a49a6-4929-4147-9071-831ccb1e3c3d",
   "metadata": {},
   "source": [
    "# question 10 \n",
    "Q10. What are some common measures of central tendency and variability used in statistics? Explain\n",
    "how each measure can be used to describe a dataset.\n",
    "# Answer "
   ]
  },
  {
   "cell_type": "markdown",
   "id": "25969278-b892-4313-9520-c6636a7250e0",
   "metadata": {},
   "source": [
    "Measures of central tendency and variability are used in statistics to describe the distribution of a dataset and to summarize the characteristics of the data. Some common measures of central tendency and variability include:\n",
    "Mean: The mean is the arithmetic average of a set of values. It is calculated by summing up all the values in the dataset and dividing by the total number of values. The mean is useful for describing the central tendency of the data and is sensitive to outliers or extreme values.\n",
    "Median: The median is the middle value in a set of ordered values. It divides the dataset into two halves, with 50% of the values above and 50% below the median. The median is less sensitive to outliers than the mean and is useful for describing the central tendency of skewed datasets.\n",
    "Mode: The mode is the value that appears most frequently in a dataset. It is useful for describing the most common value in the data and is used in nominal and ordinal data.\n",
    "Range: The range is the difference between the maximum and minimum values in a dataset. It provides an indication of the variability of the data and is used to describe the spread of the data.Variance: The variance is a measure of how spread out the data is from the mean. It is calculated by squaring the difference between each value and the mean, summing up the squared differences, and dividing by the total number of values minus one. Variance provides an indication of the variability of the data and is used to describe the spread of the data.\n",
    "Standard deviation: The standard deviation is the square root of the variance. It is a more commonly used measure of variability than variance as it is in the same units as the original data. The standard deviation provides an indication of the variability of the data and is used to describe the spread of the data."
   ]
  },
  {
   "cell_type": "code",
   "execution_count": null,
   "id": "6af1e2bc-b154-4277-802e-d343990287db",
   "metadata": {},
   "outputs": [],
   "source": []
  }
 ],
 "metadata": {
  "kernelspec": {
   "display_name": "Python 3 (ipykernel)",
   "language": "python",
   "name": "python3"
  },
  "language_info": {
   "codemirror_mode": {
    "name": "ipython",
    "version": 3
   },
   "file_extension": ".py",
   "mimetype": "text/x-python",
   "name": "python",
   "nbconvert_exporter": "python",
   "pygments_lexer": "ipython3",
   "version": "3.10.8"
  }
 },
 "nbformat": 4,
 "nbformat_minor": 5
}
